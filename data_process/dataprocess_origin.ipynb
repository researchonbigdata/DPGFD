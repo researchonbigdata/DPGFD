{
 "cells": [
  {
   "cell_type": "code",
   "execution_count": 1,
   "metadata": {},
   "outputs": [],
   "source": [
    "import pandas as pd\n",
    "from contextlib import contextmanager\n",
    "import time as timee\n",
    "import numpy as np\n",
    "from pathlib import Path\n",
    "from sklearn.preprocessing import LabelEncoder"
   ]
  },
  {
   "cell_type": "code",
   "execution_count": 9,
   "metadata": {},
   "outputs": [
    {
     "name": "stderr",
     "output_type": "stream",
     "text": [
      "/tmp/ipykernel_3441819/3173109913.py:6: DtypeWarning: Columns (5,6) have mixed types. Specify dtype option on import or set low_memory=False.\n",
      "  voc=pd.read_csv(voc_file)\n"
     ]
    }
   ],
   "source": [
    "data_path='/home/m21_huangzijun/pythonprojs/sichuan/'\n",
    "id_file=data_path+'data/0527/train/train_user.csv'\n",
    "voc_file=data_path+'data/0527/train/train_voc.csv'\n",
    "train_id=data_path+'data/train_user0.csv'\n",
    "name=pd.read_csv(id_file)\n",
    "voc=pd.read_csv(voc_file)\n",
    "train_name=pd.read_csv(train_id)\n",
    "voc=voc[['phone_no_m','opposite_no_m','call_dur','calltype_id','city_name','county_name','start_datetime']]"
   ]
  },
  {
   "cell_type": "code",
   "execution_count": 10,
   "metadata": {},
   "outputs": [
    {
     "data": {
      "text/plain": [
       "phone_no_m        object\n",
       "opposite_no_m     object\n",
       "call_dur           int64\n",
       "calltype_id        int64\n",
       "city_name         object\n",
       "county_name       object\n",
       "start_datetime    object\n",
       "dtype: object"
      ]
     },
     "execution_count": 10,
     "metadata": {},
     "output_type": "execute_result"
    }
   ],
   "source": [
    "#test\n",
    "voc.dtypes"
   ]
  },
  {
   "cell_type": "code",
   "execution_count": 11,
   "metadata": {},
   "outputs": [
    {
     "name": "stderr",
     "output_type": "stream",
     "text": [
      "/tmp/ipykernel_3441819/3094468760.py:2: SettingWithCopyWarning: \n",
      "A value is trying to be set on a copy of a slice from a DataFrame\n",
      "\n",
      "See the caveats in the documentation: https://pandas.pydata.org/pandas-docs/stable/user_guide/indexing.html#returning-a-view-versus-a-copy\n",
      "  voc.dropna(inplace=True)\n"
     ]
    }
   ],
   "source": [
    "#数据类型转换，数据清洗\n",
    "voc.dropna(inplace=True)\n",
    "voc['location']=voc['city_name']+' '+voc['county_name']\n",
    "voc['start_datetime']=pd.to_datetime(voc['start_datetime'])\n",
    "\n",
    "n_target_no=voc['opposite_no_m'].nunique()\n",
    "n_location=voc['location'].nunique()\n",
    "\n"
   ]
  },
  {
   "cell_type": "code",
   "execution_count": 14,
   "metadata": {},
   "outputs": [
    {
     "data": {
      "text/plain": [
       "197"
      ]
     },
     "execution_count": 14,
     "metadata": {},
     "output_type": "execute_result"
    }
   ],
   "source": [
    "#test\n",
    "n_location"
   ]
  },
  {
   "cell_type": "code",
   "execution_count": 15,
   "metadata": {},
   "outputs": [
    {
     "ename": "TypeError",
     "evalue": "string indices must be integers",
     "output_type": "error",
     "traceback": [
      "\u001b[0;31m---------------------------------------------------------------------------\u001b[0m",
      "\u001b[0;31mTypeError\u001b[0m                                 Traceback (most recent call last)",
      "\u001b[1;32m/home/m21_huangzijun/pythonprojs/sichuan_code/dataprocess/dataprocess_origin.ipynb Cell 6\u001b[0m in \u001b[0;36m<cell line: 10>\u001b[0;34m()\u001b[0m\n\u001b[1;32m      <a href='vscode-notebook-cell://ssh-remote%2B172.16.27.205/home/m21_huangzijun/pythonprojs/sichuan_code/dataprocess/dataprocess_origin.ipynb#W4sdnNjb2RlLXJlbW90ZQ%3D%3D?line=5'>6</a>\u001b[0m voc[\u001b[39m'\u001b[39m\u001b[39mlocation\u001b[39m\u001b[39m'\u001b[39m]\u001b[39m=\u001b[39mencoder\u001b[39m.\u001b[39mtransform(voc[\u001b[39m'\u001b[39m\u001b[39mlocation\u001b[39m\u001b[39m'\u001b[39m])\n\u001b[1;32m      <a href='vscode-notebook-cell://ssh-remote%2B172.16.27.205/home/m21_huangzijun/pythonprojs/sichuan_code/dataprocess/dataprocess_origin.ipynb#W4sdnNjb2RlLXJlbW90ZQ%3D%3D?line=7'>8</a>\u001b[0m voc\u001b[39m=\u001b[39mvoc\u001b[39m.\u001b[39mmerge(name[[\u001b[39m'\u001b[39m\u001b[39mphone_no_m\u001b[39m\u001b[39m'\u001b[39m,\u001b[39m'\u001b[39m\u001b[39mlabel\u001b[39m\u001b[39m'\u001b[39m]],how\u001b[39m=\u001b[39m\u001b[39m'\u001b[39m\u001b[39mleft\u001b[39m\u001b[39m'\u001b[39m,on\u001b[39m=\u001b[39m\u001b[39m'\u001b[39m\u001b[39mphone_no_m\u001b[39m\u001b[39m'\u001b[39m)\n\u001b[0;32m---> <a href='vscode-notebook-cell://ssh-remote%2B172.16.27.205/home/m21_huangzijun/pythonprojs/sichuan_code/dataprocess/dataprocess_origin.ipynb#W4sdnNjb2RlLXJlbW90ZQ%3D%3D?line=9'>10</a>\u001b[0m train_voc\u001b[39m=\u001b[39mvoc[voc[\u001b[39m'\u001b[39m\u001b[39mphone_no_m\u001b[39m\u001b[39m'\u001b[39m]\u001b[39m.\u001b[39misin(train_id[\u001b[39m'\u001b[39;49m\u001b[39mphone_no_m\u001b[39;49m\u001b[39m'\u001b[39;49m])]\n\u001b[1;32m     <a href='vscode-notebook-cell://ssh-remote%2B172.16.27.205/home/m21_huangzijun/pythonprojs/sichuan_code/dataprocess/dataprocess_origin.ipynb#W4sdnNjb2RlLXJlbW90ZQ%3D%3D?line=10'>11</a>\u001b[0m test_voc\u001b[39m=\u001b[39mvoc[\u001b[39m~\u001b[39m(voc[\u001b[39m'\u001b[39m\u001b[39mphone_no_m\u001b[39m\u001b[39m'\u001b[39m]\u001b[39m.\u001b[39misin(train_id[\u001b[39m'\u001b[39m\u001b[39mphone_no_m\u001b[39m\u001b[39m'\u001b[39m]))]\n",
      "\u001b[0;31mTypeError\u001b[0m: string indices must be integers"
     ]
    }
   ],
   "source": [
    "# 编码\n",
    "encoder=LabelEncoder().fit(voc['opposite_no_m'])\n",
    "voc['opposite_no_m']=encoder.transform(voc['opposite_no_m'])\n",
    "\n",
    "encoder=LabelEncoder().fit(voc['location'])\n",
    "voc['location']=encoder.transform(voc['location'])\n",
    "\n",
    "voc=voc.merge(name[['phone_no_m','label']],how='left',on='phone_no_m')\n",
    "\n"
   ]
  },
  {
   "cell_type": "code",
   "execution_count": 19,
   "metadata": {},
   "outputs": [],
   "source": [
    "#分开训练、测试voc\n",
    "train_voc=voc.loc[voc['phone_no_m'].isin(train_name['phone_no_m'])]\n",
    "test_voc=voc.loc[~(voc['phone_no_m'].isin(train_name['phone_no_m']))]"
   ]
  },
  {
   "cell_type": "code",
   "execution_count": 23,
   "metadata": {},
   "outputs": [],
   "source": [
    "train_vocs=[g for _,g in train_voc.groupby('phone_no_m')]\n",
    "test_vocs=[g for _,g in test_voc.groupby('phone_no_m')]\n"
   ]
  },
  {
   "cell_type": "code",
   "execution_count": 38,
   "metadata": {},
   "outputs": [],
   "source": [
    "train_x=[]\n",
    "train_y=[]\n",
    "test_x=[]\n",
    "test_y=[]"
   ]
  },
  {
   "cell_type": "markdown",
   "metadata": {},
   "source": [
    "数据顺序\n",
    "对端号码，地点，通话类型，通话时长，通话时间"
   ]
  },
  {
   "cell_type": "code",
   "execution_count": 40,
   "metadata": {},
   "outputs": [],
   "source": [
    "for p in train_vocs:\n",
    "    p.sort_values(by='start_datetime',inplace=True)\n",
    "    #处理时间\n",
    "    first_time=p['start_datetime'].iloc[0]\n",
    "    p['time']=(p['start_datetime']-first_time).dt.total_seconds()#转化为s\n",
    "    max_min_scalar=lambda x:(x-np.min(x))/(np.max(x)-np.min(x))\n",
    "    p['time']=p[['time']].apply(max_min_scalar) \n",
    "    #处理时长\n",
    "    p['call_dur']=p[['call_dur']].apply(max_min_scalar)\n",
    "    #输出信息\n",
    "    train_x.append(p[['opposite_no_m','location','calltype_id','call_dur','time']].to_numpy())\n",
    "    train_y.append(p['label'].iloc[0])"
   ]
  },
  {
   "cell_type": "code",
   "execution_count": 41,
   "metadata": {},
   "outputs": [],
   "source": [
    "for p in test_vocs:\n",
    "    p.sort_values(by='start_datetime',inplace=True)\n",
    "    #处理时间\n",
    "    first_time=p['start_datetime'].iloc[0]\n",
    "    p['time']=(p['start_datetime']-first_time).dt.total_seconds()#转化为s\n",
    "    max_min_scalar=lambda x:(x-np.min(x))/(np.max(x)-np.min(x))\n",
    "    p['time']=p[['time']].apply(max_min_scalar) \n",
    "    #处理时长\n",
    "    p['call_dur']=p[['call_dur']].apply(max_min_scalar)\n",
    "    #输出信息\n",
    "    test_x.append(p[['opposite_no_m','location','calltype_id','call_dur','time']].to_numpy())\n",
    "    test_y.append(p['label'].iloc[0])"
   ]
  },
  {
   "cell_type": "code",
   "execution_count": 52,
   "metadata": {},
   "outputs": [
    {
     "data": {
      "text/plain": [
       "1062387"
      ]
     },
     "execution_count": 52,
     "metadata": {},
     "output_type": "execute_result"
    }
   ],
   "source": [
    "n_target_no"
   ]
  },
  {
   "cell_type": "code",
   "execution_count": 53,
   "metadata": {},
   "outputs": [
    {
     "data": {
      "text/plain": [
       "197"
      ]
     },
     "execution_count": 53,
     "metadata": {},
     "output_type": "execute_result"
    }
   ],
   "source": [
    "n_location"
   ]
  },
  {
   "cell_type": "code",
   "execution_count": 51,
   "metadata": {},
   "outputs": [
    {
     "name": "stderr",
     "output_type": "stream",
     "text": [
      "/home/m21_huangzijun/anaconda3/envs/fraud/lib/python3.9/site-packages/numpy/lib/npyio.py:713: VisibleDeprecationWarning: Creating an ndarray from ragged nested sequences (which is a list-or-tuple of lists-or-tuples-or ndarrays with different lengths or shapes) is deprecated. If you meant to do this, you must specify 'dtype=object' when creating the ndarray.\n",
      "  val = np.asanyarray(val)\n"
     ]
    }
   ],
   "source": [
    "#保存\n",
    "np.savez(data_path+'data_after/mymodel2/8month.npz',train_x=train_x,train_y=train_y,test_x=test_x,test_y=test_y)"
   ]
  },
  {
   "cell_type": "code",
   "execution_count": 35,
   "metadata": {},
   "outputs": [],
   "source": [
    "#test\n",
    "df1=pd.DataFrame({'time':[1,2,3,4],'time2':[2,3,4,5]})\n",
    "df1_records=df1.to_numpy()\n"
   ]
  },
  {
   "cell_type": "code",
   "execution_count": 48,
   "metadata": {},
   "outputs": [
    {
     "name": "stdout",
     "output_type": "stream",
     "text": [
      "5\n",
      "5\n",
      "5\n",
      "5\n",
      "5\n",
      "5\n",
      "5\n",
      "5\n",
      "5\n",
      "5\n",
      "5\n",
      "5\n",
      "5\n",
      "5\n",
      "5\n"
     ]
    }
   ],
   "source": [
    "#test\n",
    "for x in test_x[:15]:\n",
    "    print(len(x[0]))"
   ]
  },
  {
   "cell_type": "code",
   "execution_count": 43,
   "metadata": {},
   "outputs": [
    {
     "data": {
      "text/plain": [
       "1072"
      ]
     },
     "execution_count": 43,
     "metadata": {},
     "output_type": "execute_result"
    }
   ],
   "source": [
    "#test\n",
    "len(test_x)"
   ]
  }
 ],
 "metadata": {
  "kernelspec": {
   "display_name": "Python 3.9.12 ('fraud')",
   "language": "python",
   "name": "python3"
  },
  "language_info": {
   "codemirror_mode": {
    "name": "ipython",
    "version": 3
   },
   "file_extension": ".py",
   "mimetype": "text/x-python",
   "name": "python",
   "nbconvert_exporter": "python",
   "pygments_lexer": "ipython3",
   "version": "3.9.12"
  },
  "orig_nbformat": 4,
  "vscode": {
   "interpreter": {
    "hash": "33c62cdab38c2d10cdd558d086fcf6c94cacd04113ccd20163b0963870477146"
   }
  }
 },
 "nbformat": 4,
 "nbformat_minor": 2
}
